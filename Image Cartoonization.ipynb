{
 "cells": [
  {
   "cell_type": "code",
   "execution_count": 50,
   "metadata": {},
   "outputs": [],
   "source": [
    "import numpy as np\n",
    "import pandas as pd\n",
    "import cv2\n",
    "import os\n",
    "os.chdir('D:\\\\Test')"
   ]
  },
  {
   "cell_type": "code",
   "execution_count": 51,
   "metadata": {},
   "outputs": [],
   "source": [
    "depth = cv2.CV_8U\n",
    "ks = 250\n",
    "img = cv2.imread('Ganguly.jpg') # Loads an image from a file\n",
    "img = np.asarray(img, np.uint8) # Converts image file to an array"
   ]
  },
  {
   "cell_type": "code",
   "execution_count": 52,
   "metadata": {},
   "outputs": [],
   "source": [
    "gray = cv2.cvtColor(img, cv2.COLOR_BGR2GRAY) # Converts an image to gray color\n",
    "gray = cv2.medianBlur(gray, 7) # Blurs an image\n",
    "edges = cv2.adaptiveThreshold(gray, 255, cv2.ADAPTIVE_THRESH_MEAN_C,  \n",
    "                                         cv2.THRESH_BINARY, 9,9)   # Transforms grayscale image to binary image\n",
    "lap = cv2.Laplacian(gray, depth, ks) # Detects the edges of an image"
   ]
  },
  {
   "cell_type": "code",
   "execution_count": 53,
   "metadata": {},
   "outputs": [],
   "source": [
    "rest, thresh = cv2.threshold(lap,5,125,cv2.THRESH_BINARY) # Applies a fixed-level threshold to each array element\n",
    "\n",
    "thresh = 255-thresh\n",
    "thres2 = cv2.cvtColor(thresh, cv2.COLOR_GRAY2RGB) # Converts it to RGB"
   ]
  },
  {
   "cell_type": "code",
   "execution_count": 54,
   "metadata": {},
   "outputs": [],
   "source": [
    "color = cv2.bilateralFilter(img,9,75,75) # Reduces the noise\n",
    "cart = cv2.bitwise_and(thres2, color) # Computes bitwise conjuction of 2 arrays"
   ]
  },
  {
   "cell_type": "code",
   "execution_count": 55,
   "metadata": {},
   "outputs": [],
   "source": [
    "cv2.imshow(\"Image\", img)\n",
    "cv2.imshow(\"Cartoon\", cart)\n",
    "cv2.imshow(\"Sketch\", edges)\n",
    "cv2.waitKey(0)\n",
    "cv2.destroyAllWindows()"
   ]
  }
 ],
 "metadata": {
  "kernelspec": {
   "display_name": "Python 3",
   "language": "python",
   "name": "python3"
  },
  "language_info": {
   "codemirror_mode": {
    "name": "ipython",
    "version": 3
   },
   "file_extension": ".py",
   "mimetype": "text/x-python",
   "name": "python",
   "nbconvert_exporter": "python",
   "pygments_lexer": "ipython3",
   "version": "3.6.5"
  }
 },
 "nbformat": 4,
 "nbformat_minor": 2
}
